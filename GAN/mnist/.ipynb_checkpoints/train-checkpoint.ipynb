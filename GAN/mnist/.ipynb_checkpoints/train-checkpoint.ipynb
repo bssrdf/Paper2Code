{
 "cells": [
  {
   "cell_type": "code",
   "execution_count": 1,
   "metadata": {},
   "outputs": [],
   "source": [
    "import os\n",
    "import torch\n",
    "import torch.nn as nn\n",
    "import torchvision\n",
    "import torchvision.transforms as transforms\n",
    "from torchvision.datasets import MNIST\n",
    "from torch.utils.data import DataLoader\n",
    "from torch.autograd import Variable\n",
    "from tqdm import tqdm\n",
    "from sklearn.preprocessing import OneHotEncoder"
   ]
  },
  {
   "cell_type": "code",
   "execution_count": 2,
   "metadata": {},
   "outputs": [
    {
     "name": "stdout",
     "output_type": "stream",
     "text": [
      "GPU device 2: True\n"
     ]
    }
   ],
   "source": [
    "# GPU Device\n",
    "gpu_id = '2'\n",
    "os.environ['CUDA_VISIBLE_DEVICES'] = str(gpu_id)\n",
    "use_cuda = torch.cuda.is_available()\n",
    "print(\"GPU device %s:\" %(gpu_id), use_cuda)"
   ]
  },
  {
   "cell_type": "code",
   "execution_count": 3,
   "metadata": {},
   "outputs": [],
   "source": [
    "epochs = 200"
   ]
  },
  {
   "cell_type": "code",
   "execution_count": 4,
   "metadata": {},
   "outputs": [],
   "source": [
    "# Normalize data with mean=0.5, std=1.0\n",
    "mnist_transform = transforms.Compose([\n",
    "    transforms.RandomHorizontalFlip(),\n",
    "    transforms.ToTensor(),\n",
    "    transforms.\n",
    "    transforms.Normalize(mean=(0.5,), std=(0.5,)),\n",
    "])"
   ]
  },
  {
   "cell_type": "code",
   "execution_count": 5,
   "metadata": {},
   "outputs": [],
   "source": [
    "download_root = './MNIST_DATASET'\n",
    "\n",
    "train_dataset = MNIST(download_root, transform=mnist_transform, train=True, download=True)\n",
    "valid_dataset = MNIST(download_root, transform=mnist_transform, train=False, download=True)\n",
    "test_dataset = MNIST(download_root, transform=mnist_transform, train=False, download=True)"
   ]
  },
  {
   "cell_type": "code",
   "execution_count": 6,
   "metadata": {},
   "outputs": [],
   "source": [
    "batch_size = 64\n",
    "\n",
    "train_loader = DataLoader(dataset=train_dataset, \n",
    "                         batch_size=batch_size,\n",
    "                         shuffle=True,\n",
    "                         drop_last=True)\n",
    "\n",
    "valid_loader = DataLoader(dataset=test_dataset, \n",
    "                         batch_size=batch_size,\n",
    "                         shuffle=True)\n",
    "\n",
    "test_loader = DataLoader(dataset=test_dataset, \n",
    "                         batch_size=batch_size,\n",
    "                         shuffle=True)"
   ]
  },
  {
   "cell_type": "code",
   "execution_count": 7,
   "metadata": {},
   "outputs": [],
   "source": [
    "onehot = OneHotEncoder(10)"
   ]
  },
  {
   "cell_type": "code",
   "execution_count": 8,
   "metadata": {},
   "outputs": [],
   "source": [
    "class Generator(nn.Module):\n",
    "    def __init__(self):\n",
    "        super().__init__()\n",
    "        self.G_encoder = nn.Sequential(\n",
    "            nn.Conv2d(1, 32, kernel_size=5, stride=2, padding=2, bias=False),\n",
    "            nn.InstanceNorm2d(32),\n",
    "            nn.ReLU(inplace=False),\n",
    "            \n",
    "            nn.Conv2d(32, 64, kernel_size=5, stride=2, padding=2, bias=False),\n",
    "            nn.InstanceNorm2d(64),\n",
    "            nn.ReLU(inplace=False),\n",
    "            \n",
    "            nn.Conv2d(64, 128, kernel_size=5, stride=2, padding=2, bias=False),\n",
    "            nn.InstanceNorm2d(128),\n",
    "            nn.ReLU(inplace=False)\n",
    "        )\n",
    "        \n",
    "        \n",
    "        self.G_decoder = nn.Sequential(\n",
    "            nn.ConvTranspose2d(128, 64, kernel_size=5, stride=2, padding=2, bias=False),\n",
    "            nn.InstanceNorm2d(64),\n",
    "            nn.LeakyReLU(0.2, inplace=False),\n",
    "            \n",
    "            nn.ConvTranspose2d(64, 32, kernel_size=5, stride=2, padding=2, bias=False),\n",
    "            nn.InstanceNorm2d(32),\n",
    "            nn.LeakyReLU(0.2, inplace=False),\n",
    "            \n",
    "            nn.ConvTranspose2d(32, 1, kernel_size=4, stride=2, padding=0, bias=False),\n",
    "            nn.InstanceNorm2d(1),\n",
    "            nn.Tanh()\n",
    "        )\n",
    "        \n",
    "        self.label = nn.Sequential(\n",
    "            nn.Linear(10, 2048),\n",
    "            nn.LeakyReLU(0.2),\n",
    "        )\n",
    "    \n",
    "    def forward(self, x, y):\n",
    "        encode = self.G_encoder(x)\n",
    "        bottleneck = encode.view(encode.size(0), -1)\n",
    "        label_encode = self.label(y)\n",
    "        bottleneck += label_encode\n",
    "        bottleneck = bottleneck.view(bottleneck.size(0), 128, 4, 4)\n",
    "        out = self.G_decoder(bottleneck)\n",
    "        return out"
   ]
  },
  {
   "cell_type": "code",
   "execution_count": 9,
   "metadata": {},
   "outputs": [],
   "source": [
    "class Discriminator(nn.Module):\n",
    "    def __init__(self):\n",
    "        super().__init__()\n",
    "        self.D = nn.Sequential(\n",
    "            nn.Conv2d(1, 4, kernel_size=3, stride=2, padding=1, bias=False),\n",
    "            nn.BatchNorm2d(4),\n",
    "            nn.LeakyReLU(0.2, inplace=False),\n",
    "            \n",
    "            nn.Conv2d(4, 8, kernel_size=3, stride=2, padding=1, bias=False),\n",
    "            nn.BatchNorm2d(8),\n",
    "            nn.LeakyReLU(0.2, inplace=False),\n",
    "            \n",
    "            nn.Conv2d(8, 16, kernel_size=3, stride=2, padding=1, bias=False),\n",
    "            nn.BatchNorm2d(16),\n",
    "            nn.LeakyReLU(0.2, inplace=False),\n",
    "            \n",
    "            nn.Conv2d(16, 32, kernel_size=3, stride=2, padding=1, bias=False),\n",
    "            nn.BatchNorm2d(32),\n",
    "            nn.LeakyReLU(0.2),\n",
    "        \n",
    "            nn.AdaptiveAvgPool2d(1)\n",
    "        )\n",
    "        \n",
    "        self.label = nn.Sequential(\n",
    "            nn.Linear(10, 32),\n",
    "            nn.LeakyReLU(0.2)\n",
    "        )\n",
    "        \n",
    "        self.sigmoid = nn.Sigmoid()\n",
    "        \n",
    "        self.top = nn.Linear(32, 1)\n",
    "        \n",
    "    def forward(self, x, y):\n",
    "        out = self.D(x)\n",
    "        out = out.view(out.size(0), -1)\n",
    "        \n",
    "        label = self.label(y)\n",
    "        out += label\n",
    "        out = self.top(out)\n",
    "        out = self.sigmoid(out)\n",
    "        return out"
   ]
  },
  {
   "cell_type": "code",
   "execution_count": 10,
   "metadata": {},
   "outputs": [],
   "source": [
    "D = Discriminator().cuda()\n",
    "G = Generator().cuda()\n",
    "\n",
    "criterion = nn.BCELoss()\n",
    "lr = 0.0002\n",
    "D_optim = torch.optim.Adam(D.parameters(), lr=lr, betas=(0.5, 0.999))\n",
    "G_optim = torch.optim.Adam(G.parameters(), lr=lr, betas=(0.5, 0.999))"
   ]
  },
  {
   "cell_type": "code",
   "execution_count": 11,
   "metadata": {},
   "outputs": [],
   "source": [
    "def train_D(D, x, real_label, fake_images, fake_labels, y):\n",
    "    D.zero_grad()\n",
    "    outputs = D(x, y)\n",
    "    real_loss = criterion(outputs, real_labels)\n",
    "    real_score = outputs\n",
    "    \n",
    "    outputs = D(fake_images, y)\n",
    "    fake_loss = criterion(outputs, fake_labels)\n",
    "    fake_score = fake_loss\n",
    "    \n",
    "    d_loss = real_loss + fake_loss\n",
    "    d_loss.backward(retain_graph=True)\n",
    "    D_optim.step()\n",
    "    return d_loss, real_score, fake_score\n",
    "\n",
    "def train_G(G, D_outputs, real_labels, y):\n",
    "    G.zero_grad()\n",
    "    g_loss = criterion(D_outputs, real_labels)\n",
    "    g_loss.backward()\n",
    "    G_optim.step()\n",
    "    return g_loss"
   ]
  },
  {
   "cell_type": "code",
   "execution_count": null,
   "metadata": {
    "scrolled": true
   },
   "outputs": [
    {
     "name": "stderr",
     "output_type": "stream",
     "text": [
      "  0%|          | 0/937 [00:00<?, ?it/s]/home/ubuntu/anaconda3/envs/pytorch_p36/lib/python3.6/site-packages/torch/nn/modules/loss.py:498: UserWarning: Using a target size (torch.Size([64])) that is different to the input size (torch.Size([64, 1])) is deprecated. Please ensure they have the same size.\n",
      "  return F.binary_cross_entropy(input, target, weight=self.weight, reduction=self.reduction)\n",
      "Epochs0/200, D_loss1.414556, G_loss0.669459:  86%|████████▋ | 809/937 [00:27<00:03, 35.27it/s]"
     ]
    }
   ],
   "source": [
    "\n",
    "for epoch in range(epochs):\n",
    "    bar = tqdm(total=len(train_loader), leave=False)\n",
    "    D_loss, G_loss = 0.0, 0.0\n",
    "\n",
    "    for batch_idx, (images, target) in enumerate(train_loader):\n",
    "        images = images.cuda()\n",
    "        target = torch.tensor(onehot.fit_transform(target.reshape([-1, 1]), y=10).toarray(), dtype=torch.float32)\n",
    "        target = target.cuda()\n",
    "        \n",
    "        fake_images = G(images, target)\n",
    "\n",
    "        real_labels = torch.ones(batch_size).cuda()\n",
    "        fake_labels = torch.zeros(batch_size).cuda()\n",
    "\n",
    "        d_loss, real_score, fake_score = train_D(D, images, real_labels, fake_images, fake_labels, target)\n",
    "        D_loss += d_loss\n",
    "        outputs = D(fake_images, target)\n",
    "        g_loss = train_G(G, outputs, real_labels, target)\n",
    "        G_loss += g_loss\n",
    "        bar.set_description(\"Epochs {:d}/{:d}, D_loss {:f}, G_loss {:f}\".format(epoch, epochs, D_loss/batch_idx, G_loss/batch_idx),refresh=True)\n",
    "        bar.update()\n",
    "    bar.close()\n",
    "\n",
    "    \n",
    "        \n",
    "        \n",
    "    \n",
    "    "
   ]
  },
  {
   "cell_type": "code",
   "execution_count": null,
   "metadata": {},
   "outputs": [],
   "source": [
    "outputs = D(images, target)"
   ]
  },
  {
   "cell_type": "code",
   "execution_count": null,
   "metadata": {},
   "outputs": [],
   "source": [
    "images.shape"
   ]
  },
  {
   "cell_type": "code",
   "execution_count": null,
   "metadata": {},
   "outputs": [],
   "source": []
  }
 ],
 "metadata": {
  "kernelspec": {
   "display_name": "Python [conda env:pytorch_p36] *",
   "language": "python",
   "name": "conda-env-pytorch_p36-py"
  },
  "language_info": {
   "codemirror_mode": {
    "name": "ipython",
    "version": 3
   },
   "file_extension": ".py",
   "mimetype": "text/x-python",
   "name": "python",
   "nbconvert_exporter": "python",
   "pygments_lexer": "ipython3",
   "version": "3.6.5"
  }
 },
 "nbformat": 4,
 "nbformat_minor": 2
}
